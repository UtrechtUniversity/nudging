{
 "cells": [
  {
   "cell_type": "markdown",
   "id": "2680ae27",
   "metadata": {},
   "source": [
    "# Tutorial on using the nudging package"
   ]
  },
  {
   "cell_type": "markdown",
   "id": "8bf7a430",
   "metadata": {},
   "source": [
    "**Important note**: If you're using this notebook on binder: be careful with uploading private datasets, since the data will uploaded to cloud providers."
   ]
  },
  {
   "cell_type": "markdown",
   "id": "4600179c",
   "metadata": {},
   "source": [
    "To install the package locally see: https://github.com/UtrechtUniversity/nudging."
   ]
  },
  {
   "cell_type": "markdown",
   "id": "258df44f",
   "metadata": {},
   "source": [
    "The goal of this tutorial is show how you can use the nudging package and apply machine learning methods to predict the Conditional Average Treatment Effect (CATE). Intuitively speaking, this simply the difference of outcome for each person, in the case when someone is or isn't nudged."
   ]
  },
  {
   "cell_type": "markdown",
   "id": "5847301c",
   "metadata": {},
   "source": [
    "## Step 1: Python imports\n",
    "\n",
    "First import some modules that are needed later."
   ]
  },
  {
   "cell_type": "code",
   "execution_count": 1,
   "id": "a10156a0",
   "metadata": {},
   "outputs": [],
   "source": [
    "import pandas as pd\n",
    "import numpy as np\n",
    "\n",
    "from nudging.dataset.file import FileDataset"
   ]
  },
  {
   "cell_type": "markdown",
   "id": "b4617272",
   "metadata": {},
   "source": [
    "## Step 2: Read the file into a pandas dataframe"
   ]
  },
  {
   "cell_type": "markdown",
   "id": "258d02f6",
   "metadata": {},
   "source": [
    "Pandas has a good number of file reading functions for tabular datasets, including Excel, Stata and CSV. Below an example for a CSV file."
   ]
  },
  {
   "cell_type": "code",
   "execution_count": 18,
   "id": "9954b093",
   "metadata": {},
   "outputs": [
    {
     "data": {
      "text/html": [
       "<div>\n",
       "<style scoped>\n",
       "    .dataframe tbody tr th:only-of-type {\n",
       "        vertical-align: middle;\n",
       "    }\n",
       "\n",
       "    .dataframe tbody tr th {\n",
       "        vertical-align: top;\n",
       "    }\n",
       "\n",
       "    .dataframe thead th {\n",
       "        text-align: right;\n",
       "    }\n",
       "</style>\n",
       "<table border=\"1\" class=\"dataframe\">\n",
       "  <thead>\n",
       "    <tr style=\"text-align: right;\">\n",
       "      <th></th>\n",
       "      <th>PassengerId</th>\n",
       "      <th>Name</th>\n",
       "      <th>Sex</th>\n",
       "      <th>Age</th>\n",
       "      <th>Parch</th>\n",
       "      <th>Fare</th>\n",
       "      <th>Cabin</th>\n",
       "      <th>Embarked</th>\n",
       "      <th>Birthday</th>\n",
       "      <th>Board time</th>\n",
       "      <th>Married since</th>\n",
       "    </tr>\n",
       "  </thead>\n",
       "  <tbody>\n",
       "    <tr>\n",
       "      <th>0</th>\n",
       "      <td>1</td>\n",
       "      <td>Braund, Mr. Owen Harris</td>\n",
       "      <td>male</td>\n",
       "      <td>22.0</td>\n",
       "      <td>0</td>\n",
       "      <td>7.2500</td>\n",
       "      <td>NaN</td>\n",
       "      <td>S</td>\n",
       "      <td>1922-03-23</td>\n",
       "      <td>14:57:38</td>\n",
       "      <td>2022-08-13 08:42:37</td>\n",
       "    </tr>\n",
       "    <tr>\n",
       "      <th>1</th>\n",
       "      <td>2</td>\n",
       "      <td>Cumings, Mrs. John Bradley (Florence Briggs Th...</td>\n",
       "      <td>female</td>\n",
       "      <td>38.0</td>\n",
       "      <td>0</td>\n",
       "      <td>71.2833</td>\n",
       "      <td>C85</td>\n",
       "      <td>C</td>\n",
       "      <td>1938-03-22</td>\n",
       "      <td>17:16:30</td>\n",
       "      <td>2022-07-24 06:45:36</td>\n",
       "    </tr>\n",
       "    <tr>\n",
       "      <th>2</th>\n",
       "      <td>3</td>\n",
       "      <td>Heikkinen, Miss. Laina</td>\n",
       "      <td>female</td>\n",
       "      <td>26.0</td>\n",
       "      <td>0</td>\n",
       "      <td>7.9250</td>\n",
       "      <td>NaN</td>\n",
       "      <td>S</td>\n",
       "      <td>1909-11-06</td>\n",
       "      <td>15:57:59</td>\n",
       "      <td>2022-07-21 02:32:58</td>\n",
       "    </tr>\n",
       "    <tr>\n",
       "      <th>3</th>\n",
       "      <td>4</td>\n",
       "      <td>Futrelle, Mrs. Jacques Heath (Lily May Peel)</td>\n",
       "      <td>female</td>\n",
       "      <td>35.0</td>\n",
       "      <td>0</td>\n",
       "      <td>53.1000</td>\n",
       "      <td>C123</td>\n",
       "      <td>S</td>\n",
       "      <td>1915-10-14</td>\n",
       "      <td>14:17:36</td>\n",
       "      <td>2022-07-19 13:22:18</td>\n",
       "    </tr>\n",
       "    <tr>\n",
       "      <th>4</th>\n",
       "      <td>5</td>\n",
       "      <td>Allen, Mr. William Henry</td>\n",
       "      <td>male</td>\n",
       "      <td>35.0</td>\n",
       "      <td>0</td>\n",
       "      <td>8.0500</td>\n",
       "      <td>NaN</td>\n",
       "      <td>S</td>\n",
       "      <td>1929-04-18</td>\n",
       "      <td>13:23:39</td>\n",
       "      <td>2022-07-26 11:47:42</td>\n",
       "    </tr>\n",
       "  </tbody>\n",
       "</table>\n",
       "</div>"
      ],
      "text/plain": [
       "   PassengerId                                               Name     Sex  \\\n",
       "0            1                            Braund, Mr. Owen Harris    male   \n",
       "1            2  Cumings, Mrs. John Bradley (Florence Briggs Th...  female   \n",
       "2            3                             Heikkinen, Miss. Laina  female   \n",
       "3            4       Futrelle, Mrs. Jacques Heath (Lily May Peel)  female   \n",
       "4            5                           Allen, Mr. William Henry    male   \n",
       "\n",
       "    Age  Parch     Fare Cabin Embarked    Birthday Board time  \\\n",
       "0  22.0      0   7.2500   NaN        S  1922-03-23   14:57:38   \n",
       "1  38.0      0  71.2833   C85        C  1938-03-22   17:16:30   \n",
       "2  26.0      0   7.9250   NaN        S  1909-11-06   15:57:59   \n",
       "3  35.0      0  53.1000  C123        S  1915-10-14   14:17:36   \n",
       "4  35.0      0   8.0500   NaN        S  1929-04-18   13:23:39   \n",
       "\n",
       "         Married since  \n",
       "0  2022-08-13 08:42:37  \n",
       "1  2022-07-24 06:45:36  \n",
       "2  2022-07-21 02:32:58  \n",
       "3  2022-07-19 13:22:18  \n",
       "4  2022-07-26 11:47:42  "
      ]
     },
     "execution_count": 18,
     "metadata": {},
     "output_type": "execute_result"
    }
   ],
   "source": [
    "# Make sure that the file demonstration.csv is in the same folder as the notebook.\n",
    "df = pd.read_csv(\"demonstration.csv\")\n",
    "df[:5]"
   ]
  },
  {
   "cell_type": "markdown",
   "id": "c0000052",
   "metadata": {},
   "source": [
    "## Step 3: Adjust the columns "
   ]
  },
  {
   "cell_type": "markdown",
   "id": "4d6d3cd4",
   "metadata": {},
   "source": [
    "The end result of adjusting should be that there are at least two columns:\n",
    "\n",
    "`outcome`, which is a column with the outcome for each person.\n",
    "`nudge`, whether a person was nudged or not. Should be 1 if nudged, 0 if not nudged.\n",
    "\n",
    "Then there should be the features such as age and gender as the other columns. The features should be numerical. So for example, one would convert gender to a value [0, 1].\n",
    "\n",
    "Below an we adjust the columns of our demonstration dataset. Note that originally it doesn't have anything to do with nudging, so two extra columns are generated. The CATE is set to be equal to the fare so that we can see that the CATE modeling works."
   ]
  },
  {
   "cell_type": "code",
   "execution_count": 23,
   "id": "2bc003dd",
   "metadata": {},
   "outputs": [
    {
     "data": {
      "text/html": [
       "<div>\n",
       "<style scoped>\n",
       "    .dataframe tbody tr th:only-of-type {\n",
       "        vertical-align: middle;\n",
       "    }\n",
       "\n",
       "    .dataframe tbody tr th {\n",
       "        vertical-align: top;\n",
       "    }\n",
       "\n",
       "    .dataframe thead th {\n",
       "        text-align: right;\n",
       "    }\n",
       "</style>\n",
       "<table border=\"1\" class=\"dataframe\">\n",
       "  <thead>\n",
       "    <tr style=\"text-align: right;\">\n",
       "      <th></th>\n",
       "      <th>Age</th>\n",
       "      <th>Parch</th>\n",
       "      <th>Fare</th>\n",
       "      <th>gender</th>\n",
       "      <th>nudge</th>\n",
       "      <th>outcome</th>\n",
       "    </tr>\n",
       "  </thead>\n",
       "  <tbody>\n",
       "    <tr>\n",
       "      <th>0</th>\n",
       "      <td>22.0</td>\n",
       "      <td>0</td>\n",
       "      <td>7.2500</td>\n",
       "      <td>1</td>\n",
       "      <td>0</td>\n",
       "      <td>1.810222</td>\n",
       "    </tr>\n",
       "    <tr>\n",
       "      <th>1</th>\n",
       "      <td>38.0</td>\n",
       "      <td>0</td>\n",
       "      <td>71.2833</td>\n",
       "      <td>0</td>\n",
       "      <td>0</td>\n",
       "      <td>2.736628</td>\n",
       "    </tr>\n",
       "    <tr>\n",
       "      <th>2</th>\n",
       "      <td>26.0</td>\n",
       "      <td>0</td>\n",
       "      <td>7.9250</td>\n",
       "      <td>0</td>\n",
       "      <td>1</td>\n",
       "      <td>6.875718</td>\n",
       "    </tr>\n",
       "    <tr>\n",
       "      <th>3</th>\n",
       "      <td>35.0</td>\n",
       "      <td>0</td>\n",
       "      <td>53.1000</td>\n",
       "      <td>0</td>\n",
       "      <td>0</td>\n",
       "      <td>-0.974480</td>\n",
       "    </tr>\n",
       "    <tr>\n",
       "      <th>4</th>\n",
       "      <td>35.0</td>\n",
       "      <td>0</td>\n",
       "      <td>8.0500</td>\n",
       "      <td>1</td>\n",
       "      <td>0</td>\n",
       "      <td>0.645431</td>\n",
       "    </tr>\n",
       "    <tr>\n",
       "      <th>...</th>\n",
       "      <td>...</td>\n",
       "      <td>...</td>\n",
       "      <td>...</td>\n",
       "      <td>...</td>\n",
       "      <td>...</td>\n",
       "      <td>...</td>\n",
       "    </tr>\n",
       "    <tr>\n",
       "      <th>886</th>\n",
       "      <td>27.0</td>\n",
       "      <td>0</td>\n",
       "      <td>13.0000</td>\n",
       "      <td>1</td>\n",
       "      <td>1</td>\n",
       "      <td>12.670302</td>\n",
       "    </tr>\n",
       "    <tr>\n",
       "      <th>887</th>\n",
       "      <td>19.0</td>\n",
       "      <td>0</td>\n",
       "      <td>30.0000</td>\n",
       "      <td>0</td>\n",
       "      <td>1</td>\n",
       "      <td>28.572253</td>\n",
       "    </tr>\n",
       "    <tr>\n",
       "      <th>888</th>\n",
       "      <td>NaN</td>\n",
       "      <td>2</td>\n",
       "      <td>23.4500</td>\n",
       "      <td>0</td>\n",
       "      <td>0</td>\n",
       "      <td>0.224022</td>\n",
       "    </tr>\n",
       "    <tr>\n",
       "      <th>889</th>\n",
       "      <td>26.0</td>\n",
       "      <td>0</td>\n",
       "      <td>30.0000</td>\n",
       "      <td>1</td>\n",
       "      <td>0</td>\n",
       "      <td>-1.363047</td>\n",
       "    </tr>\n",
       "    <tr>\n",
       "      <th>890</th>\n",
       "      <td>32.0</td>\n",
       "      <td>0</td>\n",
       "      <td>7.7500</td>\n",
       "      <td>1</td>\n",
       "      <td>0</td>\n",
       "      <td>0.459842</td>\n",
       "    </tr>\n",
       "  </tbody>\n",
       "</table>\n",
       "<p>891 rows × 6 columns</p>\n",
       "</div>"
      ],
      "text/plain": [
       "      Age  Parch     Fare  gender  nudge    outcome\n",
       "0    22.0      0   7.2500       1      0   1.810222\n",
       "1    38.0      0  71.2833       0      0   2.736628\n",
       "2    26.0      0   7.9250       0      1   6.875718\n",
       "3    35.0      0  53.1000       0      0  -0.974480\n",
       "4    35.0      0   8.0500       1      0   0.645431\n",
       "..    ...    ...      ...     ...    ...        ...\n",
       "886  27.0      0  13.0000       1      1  12.670302\n",
       "887  19.0      0  30.0000       0      1  28.572253\n",
       "888   NaN      2  23.4500       0      0   0.224022\n",
       "889  26.0      0  30.0000       1      0  -1.363047\n",
       "890  32.0      0   7.7500       1      0   0.459842\n",
       "\n",
       "[891 rows x 6 columns]"
      ]
     },
     "execution_count": 23,
     "metadata": {},
     "output_type": "execute_result"
    }
   ],
   "source": [
    "# Randomly nudge people\n",
    "df[\"nudge\"] = [np.random.randint(2) for _ in range(len(df))]\n",
    "\n",
    "# Set the outcome to the Fare + a small random factor\n",
    "df[\"outcome\"] = df[\"Fare\"]*df[\"nudge\"] + np.random.randn(len(df))\n",
    "\n",
    "# Convert the Sex column to one with a numerical value.\n",
    "df[\"gender\"] = (df[\"Sex\"] == \"male\").astype(int)\n",
    "\n",
    "# Drop all columns except the ones we train the model on.\n",
    "new_df = df[[\"Age\", \"Parch\", \"Fare\", \"gender\", \"nudge\", \"outcome\"]]\n",
    "new_df"
   ]
  },
  {
   "cell_type": "markdown",
   "id": "0bb6197e",
   "metadata": {},
   "source": [
    "## Step 4: Convert the pandas DataFrame to a nudging dataset\n",
    "\n",
    "This simply done with the `FileDataset` python class."
   ]
  },
  {
   "cell_type": "code",
   "execution_count": 24,
   "id": "0b2f596e",
   "metadata": {},
   "outputs": [],
   "source": [
    "dataset = FileDataset.from_dataframe(new_df)"
   ]
  },
  {
   "cell_type": "markdown",
   "id": "3a96cc02",
   "metadata": {},
   "source": [
    "## Step 5: Predict the CATE"
   ]
  },
  {
   "cell_type": "code",
   "execution_count": 26,
   "id": "a223a26d",
   "metadata": {},
   "outputs": [
    {
     "name": "stdout",
     "output_type": "stream",
     "text": [
      "[ 7.32102577 71.26129889  7.96796332 53.106404    8.07848699 51.82890797\n",
      " 21.05305544 11.18699096 30.10977875 16.72217655]\n"
     ]
    }
   ],
   "source": [
    "cate = dataset.predict_cate()\n",
    "\n",
    "# Show the first 10 values of the CATE.\n",
    "print(cate[:10])"
   ]
  },
  {
   "cell_type": "code",
   "execution_count": 27,
   "id": "f88ddb29",
   "metadata": {},
   "outputs": [
    {
     "data": {
      "text/plain": [
       "Int64Index([  0,   1,   2,   3,   4,   6,   7,   8,   9,  10,\n",
       "            ...\n",
       "            880, 881, 882, 883, 884, 885, 886, 887, 889, 890],\n",
       "           dtype='int64', length=714)"
      ]
     },
     "execution_count": 27,
     "metadata": {},
     "output_type": "execute_result"
    }
   ],
   "source": []
  },
  {
   "cell_type": "markdown",
   "id": "2b82b310",
   "metadata": {},
   "source": [
    "Notice that the length of the nudging dataset is not the same as the length of the original dataframe. This is because the modeling does not use any people with NA's in their features. To convert it back to the original you can use the index: `dataset.standard_df.index`."
   ]
  }
 ],
 "metadata": {
  "kernelspec": {
   "display_name": "Python 3 (ipykernel)",
   "language": "python",
   "name": "python3"
  },
  "language_info": {
   "codemirror_mode": {
    "name": "ipython",
    "version": 3
   },
   "file_extension": ".py",
   "mimetype": "text/x-python",
   "name": "python",
   "nbconvert_exporter": "python",
   "pygments_lexer": "ipython3",
   "version": "3.10.4"
  }
 },
 "nbformat": 4,
 "nbformat_minor": 5
}
