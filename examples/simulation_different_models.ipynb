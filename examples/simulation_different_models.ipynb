{
 "cells": [
  {
   "cell_type": "code",
   "execution_count": 1,
   "metadata": {},
   "outputs": [],
   "source": [
    "import numpy as np\n",
    "from matplotlib import pyplot as plt\n",
    "from scipy import stats\n",
    "\n",
    "from protosc.parallel import execute_parallel\n",
    "\n",
    "from nudging.model import BiRegressor, MonoRegressor, XRegressor\n",
    "from nudging.cate import get_cate_correlations, get_cate_top_performance\n",
    "from nudging.simulation import generate_multi_dataset"
   ]
  },
  {
   "cell_type": "code",
   "execution_count": 2,
   "metadata": {},
   "outputs": [],
   "source": [
    "np.random.seed(12390845)\n",
    "datasets = generate_multi_dataset(200, linear=False)"
   ]
  },
  {
   "cell_type": "code",
   "execution_count": 3,
   "metadata": {},
   "outputs": [],
   "source": [
    "from sklearn.gaussian_process import GaussianProcessRegressor\n",
    "from sklearn.linear_model import LogisticRegression, Ridge, LinearRegression, SGDRegressor, ElasticNet\n",
    "from sklearn.linear_model import ARDRegression, BayesianRidge\n",
    "from sklearn.neighbors import KNeighborsRegressor\n",
    "from sklearn.neural_network import MLPRegressor\n",
    "from sklearn.svm import SVR\n",
    "from sklearn.tree import DecisionTreeRegressor, ExtraTreeRegressor\n",
    "regressors = {\n",
    "    \"gauss_process\": GaussianProcessRegressor,\n",
    "    \"ridge\": Ridge,\n",
    "    \"linear\": LinearRegression,\n",
    "    \"sgd\": SGDRegressor,\n",
    "    \"elasticnet\": ElasticNet,\n",
    "    \"ard\": ARDRegression,\n",
    "    \"bayesian_ridge\": BayesianRidge,\n",
    "    \"knn\": KNeighborsRegressor,\n",
    "    \"mlp\": MLPRegressor,\n",
    "    \"svm\": SVR,\n",
    "    \"decision_tree\": DecisionTreeRegressor,\n",
    "    \"extra_tree\": ExtraTreeRegressor,\n",
    "}\n",
    "    "
   ]
  },
  {
   "cell_type": "code",
   "execution_count": 4,
   "metadata": {},
   "outputs": [],
   "source": [
    "from sklearn.utils._testing import ignore_warnings\n",
    "from sklearn.exceptions import ConvergenceWarning\n"
   ]
  },
  {
   "cell_type": "code",
   "execution_count": 5,
   "metadata": {},
   "outputs": [],
   "source": [
    "def plot_cate(data, model):\n",
    "    X, truth = data\n",
    "    cate_estimate = get_cate(X, model)\n",
    "    plt.scatter(truth[\"cate\"], cate_estimate)\n",
    "    plt.show()\n",
    "    print(stats.pearsonr(truth[\"cate\"], cate_estimate))"
   ]
  },
  {
   "cell_type": "code",
   "execution_count": 6,
   "metadata": {},
   "outputs": [],
   "source": [
    "def compute_performance(model, data):\n",
    "    return get_cate_top_performance(model, data)\n"
   ]
  },
  {
   "cell_type": "code",
   "execution_count": 7,
   "metadata": {},
   "outputs": [],
   "source": [
    "@ignore_warnings(category=ConvergenceWarning)\n",
    "def compute_learners(i_data, name):\n",
    "    regressor = regressors[name]\n",
    "    cur_data = datasets[i_data]\n",
    "    slearn_result = get_cate_top_performance(MonoRegressor(regressor()), cur_data)\n",
    "    tlearn_result = get_cate_top_performance(BiRegressor(regressor()), cur_data)\n",
    "    xlearn_result = get_cate_top_performance(XRegressor(regressor()), cur_data)\n",
    "    return name, slearn_result, tlearn_result, xlearn_result"
   ]
  },
  {
   "cell_type": "code",
   "execution_count": 8,
   "metadata": {},
   "outputs": [],
   "source": [
    "jobs = []\n",
    "for name in regressors:\n",
    "    jobs.extend([{\"i_data\": i_data, \"name\": name} for i_data in range(len(datasets))])"
   ]
  },
  {
   "cell_type": "code",
   "execution_count": 9,
   "metadata": {},
   "outputs": [
    {
     "name": "stderr",
     "output_type": "stream",
     "text": [
      "100%|██████████| 120/120 [18:18<00:00,  9.16s/it]\n"
     ]
    }
   ],
   "source": [
    "results = execute_parallel(jobs, compute_learners, progress_bar=True, n_jobs=1)"
   ]
  },
  {
   "cell_type": "code",
   "execution_count": 10,
   "metadata": {},
   "outputs": [],
   "source": [
    "def get_rank(value, i_data):\n",
    "    all_values = []\n",
    "    for res in results[i_data::len(datasets)]:\n",
    "        all_values.extend(res[1:])\n",
    "    return np.mean(np.where(-np.sort(-np.array(all_values)) == value)[0])\n",
    "\n",
    "def plot_results(name):\n",
    "    sub_res = [x for x in results if x[0] == name]\n",
    "    labels = [\"s-learner\", \"t-learner\", \"x-learner\"]\n",
    "    for i in range(1, 4):\n",
    "        r = [x[i] for x in sub_res]\n",
    "        plt.scatter(np.arange(len(r)), r, label=labels[i-1])\n",
    "    plt.title(name)\n",
    "    plt.legend()\n",
    "    plt.show()\n",
    "    \n",
    "def compute_avg_rank(name):\n",
    "    ranks = np.zeros(3)\n",
    "    sub_res = [x for x in results if x[0] == name]\n",
    "    labels = [\"s-learner\", \"t-learner\", \"x-learner\"]\n",
    "    for i in range(1, 4):\n",
    "        for i_data in range(len(datasets)):\n",
    "            perf = sub_res[i_data][i]\n",
    "            ranks[i-1] += get_rank(perf, i_data)\n",
    "    return ranks/len(datasets)\n",
    "    \n",
    "#for name in regressors:\n",
    "#    plot_results(name)"
   ]
  },
  {
   "cell_type": "code",
   "execution_count": 11,
   "metadata": {},
   "outputs": [
    {
     "data": {
      "text/plain": [
       "[('linear (t-learner)', 11.9),\n",
       " ('svm (s-learner)', 12.2),\n",
       " ('ridge (x-learner)', 13.2),\n",
       " ('ridge (t-learner)', 13.6),\n",
       " ('svm (x-learner)', 13.6),\n",
       " ('extra_tree (t-learner)', 14.2),\n",
       " ('svm (t-learner)', 14.3),\n",
       " ('ard (x-learner)', 14.8),\n",
       " ('mlp (t-learner)', 14.8),\n",
       " ('decision_tree (s-learner)', 14.9),\n",
       " ('mlp (x-learner)', 15.7),\n",
       " ('bayesian_ridge (x-learner)', 15.8),\n",
       " ('knn (t-learner)', 16.0),\n",
       " ('elasticnet (t-learner)', 16.6),\n",
       " ('bayesian_ridge (s-learner)', 16.6),\n",
       " ('mlp (s-learner)', 16.6),\n",
       " ('elasticnet (x-learner)', 17.6),\n",
       " ('ridge (s-learner)', 17.8),\n",
       " ('decision_tree (t-learner)', 17.8),\n",
       " ('sgd (x-learner)', 18.3),\n",
       " ('knn (x-learner)', 18.4),\n",
       " ('bayesian_ridge (t-learner)', 18.5),\n",
       " ('extra_tree (s-learner)', 18.6),\n",
       " ('linear (x-learner)', 18.8),\n",
       " ('ard (t-learner)', 19.1),\n",
       " ('decision_tree (x-learner)', 19.4),\n",
       " ('ard (s-learner)', 19.5),\n",
       " ('sgd (t-learner)', 19.6),\n",
       " ('linear (s-learner)', 20.2),\n",
       " ('gauss_process (x-learner)', 20.4),\n",
       " ('knn (s-learner)', 20.9),\n",
       " ('gauss_process (s-learner)', 21.3),\n",
       " ('gauss_process (t-learner)', 21.5),\n",
       " ('sgd (s-learner)', 22.1),\n",
       " ('elasticnet (s-learner)', 22.3),\n",
       " ('extra_tree (x-learner)', 23.1)]"
      ]
     },
     "execution_count": 11,
     "metadata": {},
     "output_type": "execute_result"
    }
   ],
   "source": [
    "rank_res = []\n",
    "labels = [\"s-learner\", \"t-learner\", \"x-learner\"]\n",
    "\n",
    "for name in regressors:\n",
    "    avg_rank = compute_avg_rank(name)\n",
    "    rank_res.extend([(name+f\" ({labels[i]})\", avg_rank[i]) for i in range(len(avg_rank))])\n",
    "sorted(rank_res, key=lambda x: x[1])"
   ]
  },
  {
   "cell_type": "code",
   "execution_count": 12,
   "metadata": {},
   "outputs": [],
   "source": [
    "# plot_cate(SVMModel())"
   ]
  },
  {
   "cell_type": "code",
   "execution_count": 13,
   "metadata": {},
   "outputs": [],
   "source": [
    "# plot_cate(RFModel())"
   ]
  },
  {
   "cell_type": "code",
   "execution_count": 14,
   "metadata": {},
   "outputs": [],
   "source": [
    "# plot_cate(RFBiModel())"
   ]
  },
  {
   "cell_type": "code",
   "execution_count": 15,
   "metadata": {},
   "outputs": [],
   "source": [
    "# plot_cate(RFXModel())"
   ]
  },
  {
   "cell_type": "code",
   "execution_count": 16,
   "metadata": {},
   "outputs": [
    {
     "ename": "NameError",
     "evalue": "name 'data' is not defined",
     "output_type": "error",
     "traceback": [
      "\u001b[0;31m--------------------------------------------------------------------------\u001b[0m",
      "\u001b[0;31mNameError\u001b[0m                                Traceback (most recent call last)",
      "\u001b[0;32m<ipython-input-16-d6f27cf52d87>\u001b[0m in \u001b[0;36m<module>\u001b[0;34m\u001b[0m\n\u001b[0;32m----> 1\u001b[0;31m \u001b[0;32mfor\u001b[0m \u001b[0md\u001b[0m \u001b[0;32min\u001b[0m \u001b[0mdata\u001b[0m\u001b[0;34m:\u001b[0m\u001b[0;34m\u001b[0m\u001b[0;34m\u001b[0m\u001b[0m\n\u001b[0m\u001b[1;32m      2\u001b[0m     \u001b[0mplot_cate\u001b[0m\u001b[0;34m(\u001b[0m\u001b[0md\u001b[0m\u001b[0;34m,\u001b[0m \u001b[0mBaseBiRegressor\u001b[0m\u001b[0;34m(\u001b[0m\u001b[0mBayesianRidge\u001b[0m\u001b[0;34m)\u001b[0m\u001b[0;34m)\u001b[0m\u001b[0;34m\u001b[0m\u001b[0;34m\u001b[0m\u001b[0m\n",
      "\u001b[0;31mNameError\u001b[0m: name 'data' is not defined"
     ]
    }
   ],
   "source": [
    "for d in data:\n",
    "    plot_cate(d, BaseBiRegressor(BayesianRidge))"
   ]
  },
  {
   "cell_type": "code",
   "execution_count": null,
   "metadata": {},
   "outputs": [],
   "source": [
    "from nudge.test.prior import test_cate"
   ]
  },
  {
   "cell_type": "code",
   "execution_count": null,
   "metadata": {},
   "outputs": [],
   "source": []
  }
 ],
 "metadata": {
  "kernelspec": {
   "display_name": "Python 3",
   "language": "python",
   "name": "python3"
  },
  "language_info": {
   "codemirror_mode": {
    "name": "ipython",
    "version": 3
   },
   "file_extension": ".py",
   "mimetype": "text/x-python",
   "name": "python",
   "nbconvert_exporter": "python",
   "pygments_lexer": "ipython3",
   "version": "3.9.7"
  }
 },
 "nbformat": 4,
 "nbformat_minor": 4
}
