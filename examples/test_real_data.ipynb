{
 "cells": [
  {
   "cell_type": "code",
   "execution_count": 6,
   "metadata": {},
   "outputs": [],
   "source": [
    "from nudging.dataset import Pennycook1, Pennycook2, Balaban, Hotard, Lieberoth, Vandenbroele\n",
    "from nudging.model import BiRegressor, MonoRegressor, XRegressor, ProbModel\n",
    "from sklearn.linear_model import LogisticRegression, ARDRegression\n",
    "from nudging.cate import get_cate\n",
    "from nudging.evaluate_outcome import evaluate_outcome\n",
    "import numpy as np\n",
    "from sklearn.utils._testing import ignore_warnings\n",
    "from sklearn.exceptions import ConvergenceWarning\n"
   ]
  },
  {
   "cell_type": "code",
   "execution_count": 7,
   "metadata": {},
   "outputs": [],
   "source": [
    "all_data = {\n",
    "    \"penny1\": Pennycook1.from_file(\"data\"),\n",
    "    \"penny2\": Pennycook2.from_file(\"data\"),\n",
    "    \"balaban\": Balaban.from_file(\"data\"),\n",
    "    \"hotard\": Hotard.from_file(\"data\"),\n",
    "    \"lieberoth\": Lieberoth.from_file(\"data\"),\n",
    "    \"broele\": Vandenbroele.from_file(\"data\"),\n",
    "}\n",
    "\n",
    "all_models = {\n",
    "    \"biregressor\": BiRegressor(ARDRegression()),\n",
    "    \"monoregressor\": MonoRegressor(ARDRegression()),\n",
    "    \"xregressor\": XRegressor(ARDRegression()),\n",
    "    \"prob_model\": ProbModel(LogisticRegression())\n",
    "}"
   ]
  },
  {
   "cell_type": "code",
   "execution_count": 3,
   "metadata": {},
   "outputs": [],
   "source": [
    "@ignore_warnings(category=ConvergenceWarning)\n",
    "def get_results(model, dataset, model_name):\n",
    "    get_cate(model, dataset)\n",
    "    print(model_name, data_name, np.mean(evaluate_outcome(model, dataset, n=10)))\n",
    "\n",
    "    "
   ]
  },
  {
   "cell_type": "code",
   "execution_count": 4,
   "metadata": {
    "scrolled": false
   },
   "outputs": [
    {
     "name": "stdout",
     "output_type": "stream",
     "text": [
      "biregressor penny1 0.5559482479849938\n",
      "biregressor penny2 0.23035300460356256\n",
      "biregressor balaban -0.039560665976679316\n",
      "biregressor hotard 0.09943216251015835\n",
      "biregressor lieberoth 0.12067393869959686\n",
      "biregressor broele 0.3848517602891001\n",
      "monoregressor penny1 0.5741932314539356\n",
      "monoregressor penny2 0.27444504142539916\n",
      "monoregressor balaban 0.019614969047176564\n",
      "monoregressor hotard 0.0681980084738301\n",
      "monoregressor lieberoth -0.0777965298220599\n",
      "monoregressor broele 0.1247735837724014\n",
      "xregressor penny1 0.553433179367072\n",
      "xregressor penny2 0.2312932277188758\n",
      "xregressor balaban -0.06413450015515106\n",
      "xregressor hotard 0.10240547887171632\n",
      "xregressor lieberoth 0.11259671158460477\n",
      "xregressor broele 0.2779365702432528\n",
      "prob_model penny1 0.242410834580125\n",
      "prob_model penny2 0.18148394667322865\n",
      "prob_model balaban 0.15290530448624856\n",
      "prob_model hotard 0.024887315795875928\n",
      "prob_model lieberoth -0.1091747675785817\n",
      "prob_model broele -0.05232876663382273\n"
     ]
    }
   ],
   "source": [
    "for model_name, model in all_models.items():\n",
    "    for data_name, dataset in all_data.items():\n",
    "        get_results(model, dataset, model_name)\n"
   ]
  },
  {
   "cell_type": "code",
   "execution_count": null,
   "metadata": {},
   "outputs": [],
   "source": []
  }
 ],
 "metadata": {
  "kernelspec": {
   "display_name": "Python 3 (ipykernel)",
   "language": "python",
   "name": "python3"
  },
  "language_info": {
   "codemirror_mode": {
    "name": "ipython",
    "version": 3
   },
   "file_extension": ".py",
   "mimetype": "text/x-python",
   "name": "python",
   "nbconvert_exporter": "python",
   "pygments_lexer": "ipython3",
   "version": "3.10.4"
  }
 },
 "nbformat": 4,
 "nbformat_minor": 4
}
