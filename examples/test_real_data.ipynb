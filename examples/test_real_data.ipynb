{
 "cells": [
  {
   "cell_type": "code",
   "execution_count": 7,
   "metadata": {},
   "outputs": [],
   "source": [
    "from nudging.dataset import Pennycook1, Pennycook2, Balaban, Hotard, Lieberoth, Vandenbroele\n",
    "from nudging.model import BiRegressor, MonoRegressor, XRegressor, ProbModel\n",
    "from sklearn.linear_model import BayesianRidge, LogisticRegression\n",
    "from nudging.cate import get_cate\n",
    "from nudging.evaluate_outcome import evaluate_outcome\n",
    "import numpy as np\n",
    "from sklearn.utils._testing import ignore_warnings\n",
    "from sklearn.exceptions import ConvergenceWarning\n"
   ]
  },
  {
   "cell_type": "code",
   "execution_count": 8,
   "metadata": {},
   "outputs": [],
   "source": [
    "all_data = {\n",
    "    \"penny1\": Pennycook1.from_file(\"data\"),\n",
    "    \"penny2\": Pennycook2.from_file(\"data\"),\n",
    "    \"balaban\": Balaban.from_file(\"data\"),\n",
    "    \"hotard\": Hotard.from_file(\"data\"),\n",
    "    \"lieberoth\": Lieberoth.from_file(\"data\"),\n",
    "    \"broele\": Vandenbroele.from_file(\"data\"),\n",
    "}\n",
    "\n",
    "all_models = {\n",
    "    \"biregressor\": BiRegressor(BayesianRidge()),\n",
    "    \"monoregressor\": MonoRegressor(BayesianRidge()),\n",
    "    \"xregressor\": XRegressor(BayesianRidge()),\n",
    "    \"prob_model\": ProbModel(LogisticRegression())\n",
    "}"
   ]
  },
  {
   "cell_type": "code",
   "execution_count": 9,
   "metadata": {},
   "outputs": [],
   "source": [
    "@ignore_warnings(category=ConvergenceWarning)\n",
    "def get_results(model, dataset, model_name):\n",
    "    get_cate(model, dataset)\n",
    "    print(model_name, data_name, np.mean(evaluate_outcome(model, dataset, n=10)))\n",
    "\n",
    "    "
   ]
  },
  {
   "cell_type": "code",
   "execution_count": 10,
   "metadata": {
    "scrolled": false
   },
   "outputs": [
    {
     "name": "stdout",
     "output_type": "stream",
     "text": [
      "biregressor penny1 0.5562139371803883\n",
      "biregressor penny2 0.23099081291222973\n",
      "biregressor balaban -0.0417916995417283\n",
      "biregressor hotard 0.10169648512098349\n",
      "biregressor lieberoth 0.13575054273846932\n",
      "biregressor broele 0.41254253878281266\n",
      "monoregressor penny1 0.573754354803573\n",
      "monoregressor penny2 0.272151487193651\n",
      "monoregressor balaban 0.028679841629658514\n",
      "monoregressor hotard 0.0630887456455396\n",
      "monoregressor lieberoth -0.054040073328721155\n",
      "monoregressor broele 0.20119500933585796\n",
      "xregressor penny1 0.5526021582651908\n",
      "xregressor penny2 0.23407396362735475\n",
      "xregressor balaban -0.058145079461449346\n",
      "xregressor hotard 0.10245123097902145\n",
      "xregressor lieberoth 0.08260214575234044\n",
      "xregressor broele 0.3114004615375747\n",
      "prob_model penny1 0.2405331560431224\n",
      "prob_model penny2 0.19110417904413704\n",
      "prob_model balaban 0.14946256210808026\n",
      "prob_model hotard 0.030470223567570138\n",
      "prob_model lieberoth -0.14030859896973685\n",
      "prob_model broele 0.03589360021810301\n"
     ]
    }
   ],
   "source": [
    "for model_name, model in all_models.items():\n",
    "    for data_name, dataset in all_data.items():\n",
    "        get_results(model, dataset, model_name)\n"
   ]
  },
  {
   "cell_type": "code",
   "execution_count": null,
   "metadata": {},
   "outputs": [],
   "source": []
  }
 ],
 "metadata": {
  "kernelspec": {
   "display_name": "Python 3 (ipykernel)",
   "language": "python",
   "name": "python3"
  },
  "language_info": {
   "codemirror_mode": {
    "name": "ipython",
    "version": 3
   },
   "file_extension": ".py",
   "mimetype": "text/x-python",
   "name": "python",
   "nbconvert_exporter": "python",
   "pygments_lexer": "ipython3",
   "version": "3.9.9"
  }
 },
 "nbformat": 4,
 "nbformat_minor": 4
}
