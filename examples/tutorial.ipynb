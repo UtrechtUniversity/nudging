{
 "cells": [
  {
   "cell_type": "markdown",
   "id": "ac6b70f6",
   "metadata": {},
   "source": [
    "# Tutorial on using the nudging package"
   ]
  },
  {
   "cell_type": "markdown",
   "id": "4b468252",
   "metadata": {},
   "source": [
    "**Important note**: If you're using this notebook on binder: be careful with uploading private datasets, since the data will uploaded to cloud providers."
   ]
  },
  {
   "cell_type": "markdown",
   "id": "0b3f3b27",
   "metadata": {},
   "source": [
    "To install the package locally see: https://github.com/UtrechtUniversity/nudging."
   ]
  },
  {
   "cell_type": "markdown",
   "id": "574d51fb",
   "metadata": {},
   "source": [
    "The goal of this tutorial is show how you can use the nudging package and apply machine learning methods to predict the Conditional Average Treatment Effect (CATE). Intuitively speaking, this simply the difference of outcome for each person, in the case when someone is or isn't nudged."
   ]
  },
  {
   "cell_type": "markdown",
   "id": "c45137ed",
   "metadata": {},
   "source": [
    "## Step 1: Python imports\n",
    "\n",
    "First import some modules that are needed later."
   ]
  },
  {
   "cell_type": "code",
   "execution_count": 3,
   "id": "3fe01504",
   "metadata": {},
   "outputs": [],
   "source": [
    "import nudging.dataset"
   ]
  },
  {
   "cell_type": "code",
   "execution_count": 1,
   "id": "1ce78cba",
   "metadata": {},
   "outputs": [
    {
     "ename": "ModuleNotFoundError",
     "evalue": "No module named 'nudging.dataset.file'",
     "output_type": "error",
     "traceback": [
      "\u001b[0;31m---------------------------------------------------------------------------\u001b[0m",
      "\u001b[0;31mModuleNotFoundError\u001b[0m                       Traceback (most recent call last)",
      "Input \u001b[0;32mIn [1]\u001b[0m, in \u001b[0;36m<cell line: 4>\u001b[0;34m()\u001b[0m\n\u001b[1;32m      1\u001b[0m \u001b[38;5;28;01mimport\u001b[39;00m \u001b[38;5;21;01mpandas\u001b[39;00m \u001b[38;5;28;01mas\u001b[39;00m \u001b[38;5;21;01mpd\u001b[39;00m\n\u001b[1;32m      2\u001b[0m \u001b[38;5;28;01mimport\u001b[39;00m \u001b[38;5;21;01mnumpy\u001b[39;00m \u001b[38;5;28;01mas\u001b[39;00m \u001b[38;5;21;01mnp\u001b[39;00m\n\u001b[0;32m----> 4\u001b[0m \u001b[38;5;28;01mfrom\u001b[39;00m \u001b[38;5;21;01mnudging\u001b[39;00m\u001b[38;5;21;01m.\u001b[39;00m\u001b[38;5;21;01mdataset\u001b[39;00m\u001b[38;5;21;01m.\u001b[39;00m\u001b[38;5;21;01mfile\u001b[39;00m \u001b[38;5;28;01mimport\u001b[39;00m FileDataset\n",
      "\u001b[0;31mModuleNotFoundError\u001b[0m: No module named 'nudging.dataset.file'"
     ]
    }
   ],
   "source": [
    "import pandas as pd\n",
    "import numpy as np\n",
    "\n",
    "from nudging.dataset.file import FileDataset"
   ]
  },
  {
   "cell_type": "markdown",
   "id": "f4527315",
   "metadata": {},
   "source": [
    "## Step 2: Read the file into a pandas dataframe"
   ]
  },
  {
   "cell_type": "markdown",
   "id": "6119fc48",
   "metadata": {},
   "source": [
    "Pandas has a good number of file reading functions for tabular datasets, including Excel, Stata and CSV. Below an example for a CSV file."
   ]
  },
  {
   "cell_type": "code",
   "execution_count": null,
   "id": "25e03f18",
   "metadata": {},
   "outputs": [],
   "source": [
    "# Make sure that the file demonstration.csv is in the same folder as the notebook.\n",
    "df = pd.read_csv(\"tutorial.csv\")\n",
    "df[:5]"
   ]
  },
  {
   "cell_type": "markdown",
   "id": "a1e27633",
   "metadata": {},
   "source": [
    "In the above tutorial dataset, the \"checked\" column is the nudge, while the \"survival chance\" is the outcome. This will be standardized in the next step (but obviously that can also be done before loading the CSV."
   ]
  },
  {
   "cell_type": "markdown",
   "id": "f5903afc",
   "metadata": {},
   "source": [
    "## Step 3: Adjust the columns "
   ]
  },
  {
   "cell_type": "markdown",
   "id": "9265bc3b",
   "metadata": {},
   "source": [
    "The end result of adjusting should be that there are at least two columns:\n",
    "\n",
    "`outcome`, which is a column with the outcome for each person.\n",
    "`nudge`, whether a person was nudged or not. Should be 1 if nudged, 0 if not nudged.\n",
    "\n",
    "Then there should be the features such as age and gender as the other columns. The features should be numerical. So for example, one would convert gender to a value [0, 1].\n",
    "\n",
    "Below an we adjust the columns of our demonstration dataset. Note that originally it doesn't have anything to do with nudging, so two extra columns are generated. The CATE is set to be equal to the fare so that we can see that the CATE modeling works."
   ]
  },
  {
   "cell_type": "code",
   "execution_count": null,
   "id": "05590960",
   "metadata": {},
   "outputs": [],
   "source": [
    "# Rename the checked column\n",
    "df[\"nudge\"] = df[\"checked\"]\n",
    "\n",
    "# Set the outcome to the Fare + a small random factor\n",
    "df[\"outcome\"] = df[\"survival chance\"]\n",
    "\n",
    "# Convert the Sex column to one with a numerical value.\n",
    "df[\"gender\"] = (df[\"Sex\"] == \"male\").astype(int)\n",
    "\n",
    "# Drop all columns except the ones we train the model on.\n",
    "new_df = df[[\"Age\", \"Parch\", \"Fare\", \"gender\", \"nudge\", \"outcome\"]]\n",
    "new_df"
   ]
  },
  {
   "cell_type": "markdown",
   "id": "d87cde56",
   "metadata": {},
   "source": [
    "## Step 4: Convert the pandas DataFrame to a nudging dataset\n",
    "\n",
    "This simply done with the `FileDataset` python class."
   ]
  },
  {
   "cell_type": "code",
   "execution_count": null,
   "id": "39769c4d",
   "metadata": {},
   "outputs": [],
   "source": [
    "dataset = FileDataset.from_dataframe(new_df)"
   ]
  },
  {
   "cell_type": "markdown",
   "id": "aaa840c5",
   "metadata": {},
   "source": [
    "## Step 5: Predict the CATE"
   ]
  },
  {
   "cell_type": "code",
   "execution_count": null,
   "id": "878b1956",
   "metadata": {},
   "outputs": [],
   "source": [
    "cate = dataset.predict_cate()\n",
    "\n",
    "# Show the first 10 values of the CATE.\n",
    "print(cate[:10])"
   ]
  },
  {
   "cell_type": "markdown",
   "id": "c97a254f",
   "metadata": {},
   "source": [
    "Notice that the length of the nudging dataset is not the same as the length of the original dataframe. This is because the modeling does not use any people with NA's in their features. To convert it back to the original you can use the index: `dataset.standard_df.index`."
   ]
  },
  {
   "cell_type": "code",
   "execution_count": null,
   "id": "1e61656f",
   "metadata": {},
   "outputs": [],
   "source": [
    "cate_whole = np.full(len(df), np.nan, dtype=float)\n",
    "cate_whole[dataset.standard_df.index] = cate\n",
    "df[\"cate\"] = cate_whole\n",
    "df[:10]"
   ]
  },
  {
   "cell_type": "markdown",
   "id": "077e5341",
   "metadata": {},
   "source": [
    "### Save the results of the modeling to a new CSV file"
   ]
  },
  {
   "cell_type": "code",
   "execution_count": null,
   "id": "d76af1bd",
   "metadata": {},
   "outputs": [],
   "source": [
    "df.to_csv(\"tutorial_with_cate.csv\", index=False)"
   ]
  }
 ],
 "metadata": {
  "kernelspec": {
   "display_name": "Python 3 (ipykernel)",
   "language": "python",
   "name": "python3"
  },
  "language_info": {
   "codemirror_mode": {
    "name": "ipython",
    "version": 3
   },
   "file_extension": ".py",
   "mimetype": "text/x-python",
   "name": "python",
   "nbconvert_exporter": "python",
   "pygments_lexer": "ipython3",
   "version": "3.10.4"
  }
 },
 "nbformat": 4,
 "nbformat_minor": 5
}
