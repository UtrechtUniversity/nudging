{
 "cells": [
  {
   "cell_type": "code",
   "execution_count": 1,
   "metadata": {},
   "outputs": [],
   "source": [
    "from nudging.cate import multi_dataset_cate\n",
    "from nudging.simulation import generate_multi_dataset\n",
    "from nudging.model import BaseBiRegressor\n",
    "from sklearn.linear_model import BayesianRidge\n",
    "from nudging.model.meta_regression import MetaRegressionModel\n",
    "import numpy as np\n",
    "from scipy.stats import spearmanr\n",
    "from tqdm import tqdm"
   ]
  },
  {
   "cell_type": "code",
   "execution_count": 2,
   "metadata": {},
   "outputs": [],
   "source": [
    "np.random.seed(1290834)\n",
    "datasets = generate_multi_dataset(150)\n",
    "base_model = BaseBiRegressor(BayesianRidge())"
   ]
  },
  {
   "cell_type": "code",
   "execution_count": 3,
   "metadata": {},
   "outputs": [],
   "source": [
    "def test_multidata(base_model, datasets, train_size=10, n_retrain=10):\n",
    "    corr = []\n",
    "    meta_model = MetaRegressionModel(base_model)\n",
    "    for _ in range(n_retrain):\n",
    "        train_idx = np.random.choice(len(datasets), size=train_size, replace=False)\n",
    "        test_idx = np.delete(np.arange(len(datasets)), train_idx)\n",
    "        meta_model.train([datasets[x] for x in train_idx])\n",
    "        for cur_id in test_idx:\n",
    "            test_data = datasets[cur_id]\n",
    "            cate = meta_model.predict_cate(test_data)\n",
    "            corr.append(spearmanr(cate, test_data.truth[\"cate\"]).correlation)\n",
    "    return corr\n"
   ]
  },
  {
   "cell_type": "code",
   "execution_count": 4,
   "metadata": {},
   "outputs": [
    {
     "data": {
      "text/plain": [
       "0.34229230409688083"
      ]
     },
     "execution_count": 4,
     "metadata": {},
     "output_type": "execute_result"
    }
   ],
   "source": [
    "np.mean(test_multidata(base_model, datasets, n_retrain=1))"
   ]
  },
  {
   "cell_type": "code",
   "execution_count": 5,
   "metadata": {},
   "outputs": [],
   "source": [
    "#train_sizes = np.arange(5, 75)\n",
    "#all_corr = []\n",
    "#for ts in tqdm(train_sizes):\n",
    "#    all_corr.append(np.mean(test_multidata(model, datasets, train_size=ts)))"
   ]
  },
  {
   "cell_type": "code",
   "execution_count": 6,
   "metadata": {},
   "outputs": [],
   "source": [
    "#from matplotlib import pyplot as plt\n",
    "#\n",
    "#plt.plot(train_sizes[:len(all_corr)], all_corr)\n",
    "#plt.show()"
   ]
  },
  {
   "cell_type": "code",
   "execution_count": null,
   "metadata": {},
   "outputs": [],
   "source": []
  }
 ],
 "metadata": {
  "kernelspec": {
   "display_name": "Python 3 (ipykernel)",
   "language": "python",
   "name": "python3"
  },
  "language_info": {
   "codemirror_mode": {
    "name": "ipython",
    "version": 3
   },
   "file_extension": ".py",
   "mimetype": "text/x-python",
   "name": "python",
   "nbconvert_exporter": "python",
   "pygments_lexer": "ipython3",
   "version": "3.10.1"
  }
 },
 "nbformat": 4,
 "nbformat_minor": 4
}
