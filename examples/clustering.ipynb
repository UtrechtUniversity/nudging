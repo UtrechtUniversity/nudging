{
 "cells": [
  {
   "cell_type": "code",
   "execution_count": 1,
   "id": "b9c594fc",
   "metadata": {},
   "outputs": [],
   "source": [
    "from nudging.simulation import generate_datasets\n",
    "from nudging.cate import get_cate, get_cate_correlations\n",
    "from nudging.model import BiRegressor\n",
    "from sklearn.linear_model import BayesianRidge\n",
    "import numpy as np\n",
    "from matplotlib import pyplot as plt\n",
    "from nudging.cluster import KSplitPartitioner, compute_partition_correlation, KMeansPartitioner, RandomPartitioner\n",
    "from scipy.stats import spearmanr\n",
    "from collections import defaultdict"
   ]
  },
  {
   "cell_type": "code",
   "execution_count": 2,
   "id": "a62d252c",
   "metadata": {},
   "outputs": [],
   "source": [
    "datasets = generate_datasets(500)"
   ]
  },
  {
   "cell_type": "code",
   "execution_count": 3,
   "id": "b1cdc435",
   "metadata": {},
   "outputs": [],
   "source": [
    "model = BiRegressor(BayesianRidge())"
   ]
  },
  {
   "cell_type": "code",
   "execution_count": 4,
   "id": "c70a29dc",
   "metadata": {},
   "outputs": [],
   "source": [
    "def get_cate_subgroup(model, dataset, k_split=4):\n",
    "    cate_results = get_cate(model, dataset, k=5)\n",
    "    cols = list(dataset.standard_df)\n",
    "    cols.remove(\"outcome\")\n",
    "    cols.remove(\"nudge\")\n",
    "    pred_correct = []\n",
    "    sub_true = []\n",
    "    sub_pred = []\n",
    "    for cate, idx in cate_results:\n",
    "        for split_var in cols:\n",
    "            split_vals = dataset.standard_df[split_var].iloc[idx].values\n",
    "            outcomes = dataset.standard_df[\"outcome\"].iloc[idx].values\n",
    "            treatment = dataset.standard_df[\"nudge\"].iloc[idx].values == 1\n",
    "            control = np.logical_not(treatment)\n",
    "            n_try = 0\n",
    "            while n_try < 100:\n",
    "                cur_sub_true = []\n",
    "                cur_sub_pred = []\n",
    "\n",
    "                sorted_idx = np.lexsort((np.random.randn(len(split_vals)), split_vals))\n",
    "                idx_list = np.array_split(sorted_idx, k_split)\n",
    "                flag = False\n",
    "                for sub_idx in idx_list:\n",
    "                    mask = np.zeros(len(split_vals), dtype=bool)\n",
    "                    mask[sub_idx] = True\n",
    "                    mask_treat = np.logical_and(mask, treatment)\n",
    "                    mask_control = np.logical_and(mask, control)\n",
    "                    if np.sum(mask_treat) == 0 or np.sum(mask_control) == 0:\n",
    "                        flag = True\n",
    "                        break\n",
    "                    cur_sub_true.append(np.mean(outcomes[mask_treat])-np.mean(outcomes[mask_control]))\n",
    "                    cur_sub_pred.append(np.mean(cate[sub_idx]))\n",
    "                if not flag:\n",
    "                    break\n",
    "                n_try += 1\n",
    "            if n_try == 100:\n",
    "                print(split_var, np.sum(mask_treat), np.sum(mask_control), len(split_vals), np.sum(treatment), np.sum(control))\n",
    "                raise ValueError(\"Could not find good split after 100 tries\")\n",
    "            sub_true.extend(cur_sub_true)\n",
    "            sub_pred.extend(cur_sub_pred)\n",
    "            #print(cur_sub_pred, cur_sub_true)\n",
    "            corr = spearmanr(cur_sub_pred, cur_sub_true).correlation\n",
    "            if np.isnan(corr):\n",
    "                corr = 0\n",
    "            pred_correct.append(corr)\n",
    "            #idx_A = np.argsort(split_vals)[:len(split_vals)//2]\n",
    "            #mask_A = np.zeros(len(split_vals), dtype=bool)\n",
    "            #mask_A[idx_A] = True\n",
    "            #mask_B = np.logical_not(mask_A)\n",
    "            #q = np.quantile(split_vals, 0.5)\n",
    "            #split_1 = split_vals > q\n",
    "            #split_2 = split_vals >= q\n",
    "            #if abs(np.sum(split_1)-len(split_vals)/2) <= abs(np.sum(split_2)-len(split_vals)/2):\n",
    "            #    idx_A = split_1\n",
    "            #else:\n",
    "            #    idx_A = split_2\n",
    "            #idx_B = np.logical_not(idx_A)\n",
    "            #idx_A_treat = np.logical_and(mask_A, treatment)\n",
    "            #idx_A_control = np.logical_and(mask_A, control)\n",
    "            #idx_B_treat = np.logical_and(mask_B, treatment)\n",
    "            #idx_B_control = np.logical_and(mask_B, control)\n",
    "            #sub_cate_A = np.mean(outcomes[idx_A_treat]) - np.mean(outcomes[idx_A_control])\n",
    "            #sub_cate_B = np.mean(outcomes[idx_B_treat]) - np.mean(outcomes[idx_B_control])\n",
    "            #sub_true.extend([sub_cate_A, sub_cate_B])\n",
    "            #sub_pred.extend([np.mean(cate[mask_A]), np.mean(cate[mask_B])])\n",
    "            #pred_correct.append(\n",
    "            #    np.sign(sub_cate_A-sub_cate_B) == np.sign(np.mean(cate[mask_A])-np.mean(cate[mask_B])))\n",
    "    return spearmanr(sub_true, sub_pred).correlation, np.mean(pred_correct)\n",
    "\n"
   ]
  },
  {
   "cell_type": "code",
   "execution_count": 5,
   "id": "46c5fa2c",
   "metadata": {},
   "outputs": [],
   "source": [
    "def plot_sub_cates(k_split=2):\n",
    "    all_sub = defaultdict(lambda: [])\n",
    "\n",
    "    for dataset in datasets:\n",
    "        #sub_cate, sub_cate_spear = get_cate_subgroup(model, dataset, k_split=k_split)\n",
    "        res = compute_partition_correlation(model, dataset, KSplitPartitioner, KMeansPartitioner, RandomPartitioner)\n",
    "        for name in res:\n",
    "            all_sub[name].append(res[name])\n",
    "\n",
    "    for name in all_sub:\n",
    "        if name == \"individual\":\n",
    "            continue\n",
    "        plt.scatter(all_sub[name], all_sub[\"individual\"], label=name)\n",
    "        print(name, spearmanr(all_sub[name], all_sub[\"individual\"]))\n",
    "    plt.legend()\n",
    "    plt.show()\n",
    "    \n",
    "    #plt.scatter(all_sub_split, all_idv_cate)\n",
    "    #plt.scatter(all_sub_kmean, all_idv_cate)\n",
    "    #plt.scatter(all_sub_cate_spear, all_idv_cate)\n",
    "    #plt.show()\n",
    "    #print(spearmanr(all_sub_split, all_idv_cate))\n",
    "    #print(spearmanr(all_sub_kmean, all_idv_cate))\n",
    "    #print(spearmanr(all_sub_cate_spear, all_idv_cate))"
   ]
  },
  {
   "cell_type": "code",
   "execution_count": 6,
   "id": "231a08ad",
   "metadata": {
    "scrolled": false
   },
   "outputs": [
    {
     "name": "stdout",
     "output_type": "stream",
     "text": [
      "ksplit SpearmanrResult(correlation=0.8286501626006505, pvalue=1.38646133154554e-127)\n",
      "kmeans SpearmanrResult(correlation=0.7935012540050159, pvalue=1.7346308518806664e-109)\n",
      "random SpearmanrResult(correlation=0.6393728294913179, pvalue=8.09867764097058e-59)\n",
      "all SpearmanrResult(correlation=0.8275773583094331, pvalue=5.674738919397128e-127)\n"
     ]
    },
    {
     "data": {
      "image/png": "[encoded data removed]",
      "text/plain": [
       "<Figure size 432x288 with 1 Axes>"
      ]
     },
     "metadata": {
      "needs_background": "light"
     },
     "output_type": "display_data"
    }
   ],
   "source": [
    "plot_sub_cates()"
   ]
  },
  {
   "cell_type": "code",
   "execution_count": 7,
   "id": "194a5091",
   "metadata": {},
   "outputs": [],
   "source": [
    "X, nudge, outcome = model._X_nudge_outcome(datasets[0].standard_df)"
   ]
  },
  {
   "cell_type": "code",
   "execution_count": 8,
   "id": "6c14577b",
   "metadata": {},
   "outputs": [],
   "source": [
    "from sklearn.cluster import KMeans"
   ]
  },
  {
   "cell_type": "code",
   "execution_count": 9,
   "id": "abca302e",
   "metadata": {},
   "outputs": [],
   "source": [
    "km = KMeans(n_clusters=2)"
   ]
  },
  {
   "cell_type": "code",
   "execution_count": 10,
   "id": "121ad76c",
   "metadata": {},
   "outputs": [
    {
     "data": {
      "text/plain": [
       "(array([0, 1], dtype=int32), array([1, 0, 0, ..., 1, 1, 0]))"
      ]
     },
     "execution_count": 10,
     "metadata": {},
     "output_type": "execute_result"
    }
   ],
   "source": [
    "np.unique(km.fit_predict(X), return_inverse=True)"
   ]
  },
  {
   "cell_type": "code",
   "execution_count": 11,
   "id": "ccae0a95",
   "metadata": {},
   "outputs": [
    {
     "data": {
      "text/plain": [
       "array([[ 4.21989158e+01,  5.07923269e-01,  9.21601334e-01,\n",
       "         1.53961635e+00,  1.63594662e+00,  3.05689630e-02,\n",
       "        -1.24207601e-02,  3.57476400e-02, -5.48033944e-02,\n",
       "        -4.37491251e-01,  4.53611427e-02, -1.47820675e-01,\n",
       "         1.75539254e-01,  3.40390468e-01],\n",
       "       [ 5.66519405e+01,  5.06606111e-01,  9.05450041e-01,\n",
       "         1.54624277e+00,  1.64203138e+00,  1.25067598e-02,\n",
       "         3.78784252e-03,  3.56412138e-02,  4.86200355e-02,\n",
       "         4.20589155e-01, -5.34378320e-03,  1.38309469e-01,\n",
       "        -2.02758580e-01, -3.05268369e-01]])"
      ]
     },
     "execution_count": 11,
     "metadata": {},
     "output_type": "execute_result"
    }
   ],
   "source": [
    "km.cluster_centers_"
   ]
  },
  {
   "cell_type": "code",
   "execution_count": 12,
   "id": "7a4bf998",
   "metadata": {},
   "outputs": [
    {
     "data": {
      "text/plain": [
       "(4820, 14)"
      ]
     },
     "execution_count": 12,
     "metadata": {},
     "output_type": "execute_result"
    }
   ],
   "source": [
    "X.shape"
   ]
  },
  {
   "cell_type": "code",
   "execution_count": 13,
   "id": "bb323939",
   "metadata": {},
   "outputs": [
    {
     "data": {
      "text/plain": [
       "186977.05319321534"
      ]
     },
     "execution_count": 13,
     "metadata": {},
     "output_type": "execute_result"
    }
   ],
   "source": [
    "km.inertia_"
   ]
  },
  {
   "cell_type": "code",
   "execution_count": 14,
   "id": "6f8ee289",
   "metadata": {},
   "outputs": [
    {
     "ename": "SyntaxError",
     "evalue": "invalid syntax (3443221926.py, line 36)",
     "output_type": "error",
     "traceback": [
      "\u001b[0;36m  Input \u001b[0;32mIn [14]\u001b[0;36m\u001b[0m\n\u001b[0;31m    def compute_energy(self, i_clust)\u001b[0m\n\u001b[0m                                     ^\u001b[0m\n\u001b[0;31mSyntaxError\u001b[0m\u001b[0;31m:\u001b[0m invalid syntax\n"
     ]
    }
   ],
   "source": [
    "class Clusters():\n",
    "    def __init__(self, clusters):\n",
    "        self.clusters = clusters\n",
    "        self.cluster_sizes = np.unique(clusters, return_counts=True)[1]\n",
    "        self.cluster_sorted = np.argsort(-self.cluster_sizes)\n",
    "        self.recompute()\n",
    "\n",
    "    def recompute(self, i_clust):\n",
    "        self.cluster_sizes = np.unique(clusters, return_counts=True)[1]\n",
    "\n",
    "        all_costs = []\n",
    "        for i_other in range(i_clust+1, n_cluster):\n",
    "            all_costs.append(compute_cost(i_clust, i_other))\n",
    "        if len(all_costs) == 0:\n",
    "            return\n",
    "        self.all_costs = np.array(all_costs).T\n",
    "\n",
    "    def compute_cost(i_src, i_dst):\n",
    "        src_clust = self.cluster_sorted[i_src]\n",
    "        dst_clust = self.cluster_sorted[i_dst]\n",
    "\n",
    "        clust_mask = self.clusters == src_clust\n",
    "        center = kmodel.cluster_centers_[dst_clust]\n",
    "        dist_cost = np.linalg.norm(X[clust_mask] - center, axis=1)\n",
    "        clust_cost = cluster_sizes[dst_clust] - cluster_sizes[src_clust] + 1\n",
    "        return dist_cost + eps*clust_cost\n",
    "\n",
    "    def swap_items(self, i_clust):\n",
    "        min_costs = np.min(self.all_costs, axis=1)\n",
    "        i_min_costs = np.argmin(self.all_costs, axis=1)\n",
    "        swap_mask = np.sort(min_costs) + 2*eps*np.arange(len(min_costs)) < 0\n",
    "        swap_idx_local = np.argsort(min_costs)[swap_mask]\n",
    "        swap_idx = (np.where(self.clusters == self.cluster_sorted[i_clust])[0])[swap_idx_local]\n",
    "        self.clusters.clusters[swap_idx] = i_other\n",
    "\n",
    "    def compute_energy(self, i_clust)\n",
    "\n",
    "def same_size_cluster(dataset, n_cluster=2, eps=0.1):\n",
    "    X, nudge, outcome = model._X_nudge_outcome(dataset.standard_df)\n",
    "    kmodel = KMeans(n_clusters=n_cluster)\n",
    "    clusters = Clusters(kmodel.fit_predict(X))\n",
    "    \n",
    "    def recompute_clusters():\n",
    "        cluster_sizes = np.unique(clusters, return_counts=True)[1]\n",
    "        cluster_sorted = np.argsort(-cluster_sizes)\n",
    "\n",
    "        all_costs = []\n",
    "        for i_other in range(i_clust+1, n_cluster):\n",
    "            all_costs.append(compute_cost(i_clust, i_other))\n",
    "        if len(all_costs) == 0:\n",
    "            return\n",
    "        return np.array(all_costs).T\n",
    "\n",
    "    def compute_cost(i_clust, i_other):\n",
    "        clust_mask = clusters == cluster_sorted[i_clust]\n",
    "        center = kmodel.cluster_centers_[cluster_sorted[i_other]]\n",
    "        dist_cost = np.linalg.norm(X[clust_mask] - center, axis=1)\n",
    "        clust_cost = cluster_sizes[cluster_sorted[i_other]] - cluster_sizes[cluster_sorted[i_clust]] + 1\n",
    "        print(\"clust\", clust_cost)\n",
    "        return dist_cost + eps*clust_cost\n",
    "\n",
    "    for i_clust in range(n_cluster):\n",
    "        clusters.recompute_clusters(i_clust)\n",
    "        clusters.swap_items(i_clust)\n",
    "        all_costs = clusters.all_costs\n",
    "        min_costs = np.min(all_costs, axis=1)\n",
    "        i_min_costs = np.argmin(all_costs, axis=1)\n",
    "        swap_mask = np.sort(min_costs) + 2*eps*np.arange(len(min_costs)) < 0\n",
    "        swap_idx_local = np.argsort(min_costs)[swap_mask]\n",
    "        swap_idx = (np.where(clusters == cluster_sorted[i_clust])[0])[swap_idx_local]\n",
    "        self.clusters.clusters[swap_idx] = i_other    \n",
    "        all_costs = recompute_clusters()\n",
    "\n",
    "    return clusters\n",
    "    zero_clust = clusters == 0\n",
    "    one_clust = clusters == 1\n",
    "    d_zero_one = X[zero_clust] - kmodel.cluster_centers_[1]\n",
    "    d_zero_zero = X[zero_clust] - kmodel.cluster_centers_[0]\n",
    "    cost = np.linalg.norm(d_zero_one, axis=1)-np.linalg.norm(d_zero_zero, axis=1)\n",
    "    "
   ]
  },
  {
   "cell_type": "code",
   "execution_count": null,
   "id": "ffa352d1",
   "metadata": {},
   "outputs": [],
   "source": [
    "same_size_cluster(datasets[0])"
   ]
  },
  {
   "cell_type": "code",
   "execution_count": null,
   "id": "9629a3ae",
   "metadata": {},
   "outputs": [],
   "source": [
    "x = np.arange(10).reshape(-1, 1)"
   ]
  },
  {
   "cell_type": "code",
   "execution_count": null,
   "id": "2fc7b43a",
   "metadata": {},
   "outputs": [],
   "source": [
    "np.min(x, axis=1)"
   ]
  },
  {
   "cell_type": "code",
   "execution_count": null,
   "id": "ef648964",
   "metadata": {},
   "outputs": [],
   "source": [
    "x = np.random.rand(100)"
   ]
  },
  {
   "cell_type": "code",
   "execution_count": null,
   "id": "6d42b0e3",
   "metadata": {},
   "outputs": [],
   "source": [
    "np.unique(x)"
   ]
  },
  {
   "cell_type": "code",
   "execution_count": null,
   "id": "42d64d74",
   "metadata": {},
   "outputs": [],
   "source": []
  }
 ],
 "metadata": {
  "kernelspec": {
   "display_name": "Python 3 (ipykernel)",
   "language": "python",
   "name": "python3"
  },
  "language_info": {
   "codemirror_mode": {
    "name": "ipython",
    "version": 3
   },
   "file_extension": ".py",
   "mimetype": "text/x-python",
   "name": "python",
   "nbconvert_exporter": "python",
   "pygments_lexer": "ipython3",
   "version": "3.9.9"
  }
 },
 "nbformat": 4,
 "nbformat_minor": 5
}
